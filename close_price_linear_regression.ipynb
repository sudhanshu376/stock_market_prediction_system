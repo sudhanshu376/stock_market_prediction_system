{
 "cells": [
  {
   "cell_type": "code",
   "execution_count": 85,
   "id": "07911d01",
   "metadata": {},
   "outputs": [],
   "source": [
    "import pandas as pd\n",
    "import numpy as np\n",
    "from sklearn import metrics\n",
    "%matplotlib inline\n",
    "import matplotlib.pyplot as plt\n",
    "from matplotlib import figure as fig\n",
    "import mplfinance as mpf\n",
    "import math\n"
   ]
  },
  {
   "cell_type": "code",
   "execution_count": 39,
   "id": "4ee9a47a",
   "metadata": {},
   "outputs": [],
   "source": [
    "dataset=pd.read_csv('C:/Users/Sebi/Desktop/B.tech/GRIET/sem 6/mini proj/archive (1)/Data/DABUR.NS.csv')"
   ]
  },
  {
   "cell_type": "code",
   "execution_count": 40,
   "id": "138abd14",
   "metadata": {},
   "outputs": [
    {
     "data": {
      "text/html": [
       "<div>\n",
       "<style scoped>\n",
       "    .dataframe tbody tr th:only-of-type {\n",
       "        vertical-align: middle;\n",
       "    }\n",
       "\n",
       "    .dataframe tbody tr th {\n",
       "        vertical-align: top;\n",
       "    }\n",
       "\n",
       "    .dataframe thead th {\n",
       "        text-align: right;\n",
       "    }\n",
       "</style>\n",
       "<table border=\"1\" class=\"dataframe\">\n",
       "  <thead>\n",
       "    <tr style=\"text-align: right;\">\n",
       "      <th></th>\n",
       "      <th>Date</th>\n",
       "      <th>Open</th>\n",
       "      <th>High</th>\n",
       "      <th>Low</th>\n",
       "      <th>Close</th>\n",
       "      <th>Adj Close</th>\n",
       "      <th>Volume</th>\n",
       "    </tr>\n",
       "  </thead>\n",
       "  <tbody>\n",
       "    <tr>\n",
       "      <th>0</th>\n",
       "      <td>2002-07-01</td>\n",
       "      <td>8.610</td>\n",
       "      <td>8.675</td>\n",
       "      <td>8.535</td>\n",
       "      <td>8.585</td>\n",
       "      <td>3.851048</td>\n",
       "      <td>2331240</td>\n",
       "    </tr>\n",
       "    <tr>\n",
       "      <th>1</th>\n",
       "      <td>2002-07-02</td>\n",
       "      <td>8.575</td>\n",
       "      <td>8.615</td>\n",
       "      <td>8.525</td>\n",
       "      <td>8.585</td>\n",
       "      <td>3.851048</td>\n",
       "      <td>925272</td>\n",
       "    </tr>\n",
       "    <tr>\n",
       "      <th>2</th>\n",
       "      <td>2002-07-03</td>\n",
       "      <td>8.585</td>\n",
       "      <td>8.640</td>\n",
       "      <td>8.540</td>\n",
       "      <td>8.585</td>\n",
       "      <td>3.851048</td>\n",
       "      <td>1304064</td>\n",
       "    </tr>\n",
       "    <tr>\n",
       "      <th>3</th>\n",
       "      <td>2002-07-04</td>\n",
       "      <td>8.660</td>\n",
       "      <td>8.665</td>\n",
       "      <td>8.540</td>\n",
       "      <td>8.560</td>\n",
       "      <td>3.839834</td>\n",
       "      <td>1589202</td>\n",
       "    </tr>\n",
       "    <tr>\n",
       "      <th>4</th>\n",
       "      <td>2002-07-05</td>\n",
       "      <td>8.635</td>\n",
       "      <td>9.000</td>\n",
       "      <td>8.565</td>\n",
       "      <td>8.815</td>\n",
       "      <td>3.954221</td>\n",
       "      <td>3139716</td>\n",
       "    </tr>\n",
       "  </tbody>\n",
       "</table>\n",
       "</div>"
      ],
      "text/plain": [
       "         Date   Open   High    Low  Close  Adj Close   Volume\n",
       "0  2002-07-01  8.610  8.675  8.535  8.585   3.851048  2331240\n",
       "1  2002-07-02  8.575  8.615  8.525  8.585   3.851048   925272\n",
       "2  2002-07-03  8.585  8.640  8.540  8.585   3.851048  1304064\n",
       "3  2002-07-04  8.660  8.665  8.540  8.560   3.839834  1589202\n",
       "4  2002-07-05  8.635  9.000  8.565  8.815   3.954221  3139716"
      ]
     },
     "execution_count": 40,
     "metadata": {},
     "output_type": "execute_result"
    }
   ],
   "source": [
    "dataset.head()"
   ]
  },
  {
   "cell_type": "code",
   "execution_count": 21,
   "id": "36d7d106",
   "metadata": {},
   "outputs": [],
   "source": [
    "dataset['Date']=pd.to_datetime(dataset.Date)"
   ]
  },
  {
   "cell_type": "code",
   "execution_count": 23,
   "id": "14b5a163",
   "metadata": {},
   "outputs": [
    {
     "data": {
      "text/plain": [
       "(4420, 7)"
      ]
     },
     "execution_count": 23,
     "metadata": {},
     "output_type": "execute_result"
    }
   ],
   "source": [
    "dataset.shape"
   ]
  },
  {
   "cell_type": "code",
   "execution_count": 42,
   "id": "f45ca01e",
   "metadata": {},
   "outputs": [
    {
     "data": {
      "text/html": [
       "<div>\n",
       "<style scoped>\n",
       "    .dataframe tbody tr th:only-of-type {\n",
       "        vertical-align: middle;\n",
       "    }\n",
       "\n",
       "    .dataframe tbody tr th {\n",
       "        vertical-align: top;\n",
       "    }\n",
       "\n",
       "    .dataframe thead th {\n",
       "        text-align: right;\n",
       "    }\n",
       "</style>\n",
       "<table border=\"1\" class=\"dataframe\">\n",
       "  <thead>\n",
       "    <tr style=\"text-align: right;\">\n",
       "      <th></th>\n",
       "      <th>Date</th>\n",
       "      <th>Open</th>\n",
       "      <th>High</th>\n",
       "      <th>Low</th>\n",
       "      <th>Close</th>\n",
       "      <th>Adj Close</th>\n",
       "      <th>Volume</th>\n",
       "    </tr>\n",
       "  </thead>\n",
       "  <tbody>\n",
       "    <tr>\n",
       "      <th>0</th>\n",
       "      <td>2002-07-01</td>\n",
       "      <td>8.610</td>\n",
       "      <td>8.675</td>\n",
       "      <td>8.535</td>\n",
       "      <td>8.585</td>\n",
       "      <td>3.851048</td>\n",
       "      <td>2331240</td>\n",
       "    </tr>\n",
       "    <tr>\n",
       "      <th>1</th>\n",
       "      <td>2002-07-02</td>\n",
       "      <td>8.575</td>\n",
       "      <td>8.615</td>\n",
       "      <td>8.525</td>\n",
       "      <td>8.585</td>\n",
       "      <td>3.851048</td>\n",
       "      <td>925272</td>\n",
       "    </tr>\n",
       "    <tr>\n",
       "      <th>2</th>\n",
       "      <td>2002-07-03</td>\n",
       "      <td>8.585</td>\n",
       "      <td>8.640</td>\n",
       "      <td>8.540</td>\n",
       "      <td>8.585</td>\n",
       "      <td>3.851048</td>\n",
       "      <td>1304064</td>\n",
       "    </tr>\n",
       "    <tr>\n",
       "      <th>3</th>\n",
       "      <td>2002-07-04</td>\n",
       "      <td>8.660</td>\n",
       "      <td>8.665</td>\n",
       "      <td>8.540</td>\n",
       "      <td>8.560</td>\n",
       "      <td>3.839834</td>\n",
       "      <td>1589202</td>\n",
       "    </tr>\n",
       "    <tr>\n",
       "      <th>4</th>\n",
       "      <td>2002-07-05</td>\n",
       "      <td>8.635</td>\n",
       "      <td>9.000</td>\n",
       "      <td>8.565</td>\n",
       "      <td>8.815</td>\n",
       "      <td>3.954221</td>\n",
       "      <td>3139716</td>\n",
       "    </tr>\n",
       "  </tbody>\n",
       "</table>\n",
       "</div>"
      ],
      "text/plain": [
       "         Date   Open   High    Low  Close  Adj Close   Volume\n",
       "0  2002-07-01  8.610  8.675  8.535  8.585   3.851048  2331240\n",
       "1  2002-07-02  8.575  8.615  8.525  8.585   3.851048   925272\n",
       "2  2002-07-03  8.585  8.640  8.540  8.585   3.851048  1304064\n",
       "3  2002-07-04  8.660  8.665  8.540  8.560   3.839834  1589202\n",
       "4  2002-07-05  8.635  9.000  8.565  8.815   3.954221  3139716"
      ]
     },
     "execution_count": 42,
     "metadata": {},
     "output_type": "execute_result"
    }
   ],
   "source": [
    "dataset.drop(,axis = 1, inplace = True)\n",
    "dataset.head()"
   ]
  },
  {
   "cell_type": "code",
   "execution_count": 28,
   "id": "fc20fc36",
   "metadata": {},
   "outputs": [
    {
     "data": {
      "text/plain": [
       "Date      False\n",
       "Open      False\n",
       "High      False\n",
       "Low       False\n",
       "Close     False\n",
       "Volume    False\n",
       "dtype: bool"
      ]
     },
     "execution_count": 28,
     "metadata": {},
     "output_type": "execute_result"
    }
   ],
   "source": [
    "dataset.isnull().sum()\n",
    "dataset.isna().any()"
   ]
  },
  {
   "cell_type": "code",
   "execution_count": 30,
   "id": "be46d492",
   "metadata": {},
   "outputs": [
    {
     "name": "stdout",
     "output_type": "stream",
     "text": [
      "<class 'pandas.core.frame.DataFrame'>\n",
      "RangeIndex: 4420 entries, 0 to 4419\n",
      "Data columns (total 6 columns):\n",
      " #   Column  Non-Null Count  Dtype         \n",
      "---  ------  --------------  -----         \n",
      " 0   Date    4420 non-null   datetime64[ns]\n",
      " 1   Open    4420 non-null   float64       \n",
      " 2   High    4420 non-null   float64       \n",
      " 3   Low     4420 non-null   float64       \n",
      " 4   Close   4420 non-null   float64       \n",
      " 5   Volume  4420 non-null   int64         \n",
      "dtypes: datetime64[ns](1), float64(4), int64(1)\n",
      "memory usage: 207.3 KB\n"
     ]
    }
   ],
   "source": [
    "dataset.info()"
   ]
  },
  {
   "cell_type": "code",
   "execution_count": 32,
   "id": "15596c35",
   "metadata": {},
   "outputs": [
    {
     "data": {
      "text/html": [
       "<div>\n",
       "<style scoped>\n",
       "    .dataframe tbody tr th:only-of-type {\n",
       "        vertical-align: middle;\n",
       "    }\n",
       "\n",
       "    .dataframe tbody tr th {\n",
       "        vertical-align: top;\n",
       "    }\n",
       "\n",
       "    .dataframe thead th {\n",
       "        text-align: right;\n",
       "    }\n",
       "</style>\n",
       "<table border=\"1\" class=\"dataframe\">\n",
       "  <thead>\n",
       "    <tr style=\"text-align: right;\">\n",
       "      <th></th>\n",
       "      <th>Open</th>\n",
       "      <th>High</th>\n",
       "      <th>Low</th>\n",
       "      <th>Close</th>\n",
       "      <th>Volume</th>\n",
       "    </tr>\n",
       "  </thead>\n",
       "  <tbody>\n",
       "    <tr>\n",
       "      <th>count</th>\n",
       "      <td>4420.000000</td>\n",
       "      <td>4420.000000</td>\n",
       "      <td>4420.000000</td>\n",
       "      <td>4420.000000</td>\n",
       "      <td>4.420000e+03</td>\n",
       "    </tr>\n",
       "    <tr>\n",
       "      <th>mean</th>\n",
       "      <td>154.840085</td>\n",
       "      <td>156.894291</td>\n",
       "      <td>152.677793</td>\n",
       "      <td>154.703176</td>\n",
       "      <td>1.819940e+06</td>\n",
       "    </tr>\n",
       "    <tr>\n",
       "      <th>std</th>\n",
       "      <td>139.750804</td>\n",
       "      <td>141.425982</td>\n",
       "      <td>138.006825</td>\n",
       "      <td>139.646854</td>\n",
       "      <td>1.882126e+06</td>\n",
       "    </tr>\n",
       "    <tr>\n",
       "      <th>min</th>\n",
       "      <td>5.975000</td>\n",
       "      <td>6.135000</td>\n",
       "      <td>5.165000</td>\n",
       "      <td>5.940000</td>\n",
       "      <td>0.000000e+00</td>\n",
       "    </tr>\n",
       "    <tr>\n",
       "      <th>25%</th>\n",
       "      <td>45.000000</td>\n",
       "      <td>45.799999</td>\n",
       "      <td>43.952500</td>\n",
       "      <td>44.972499</td>\n",
       "      <td>7.873700e+05</td>\n",
       "    </tr>\n",
       "    <tr>\n",
       "      <th>50%</th>\n",
       "      <td>102.099998</td>\n",
       "      <td>103.875000</td>\n",
       "      <td>100.775002</td>\n",
       "      <td>102.275002</td>\n",
       "      <td>1.284784e+06</td>\n",
       "    </tr>\n",
       "    <tr>\n",
       "      <th>75%</th>\n",
       "      <td>272.662498</td>\n",
       "      <td>275.250000</td>\n",
       "      <td>268.750000</td>\n",
       "      <td>272.025002</td>\n",
       "      <td>2.219985e+06</td>\n",
       "    </tr>\n",
       "    <tr>\n",
       "      <th>max</th>\n",
       "      <td>520.000000</td>\n",
       "      <td>525.000000</td>\n",
       "      <td>514.549988</td>\n",
       "      <td>519.900024</td>\n",
       "      <td>3.602862e+07</td>\n",
       "    </tr>\n",
       "  </tbody>\n",
       "</table>\n",
       "</div>"
      ],
      "text/plain": [
       "              Open         High          Low        Close        Volume\n",
       "count  4420.000000  4420.000000  4420.000000  4420.000000  4.420000e+03\n",
       "mean    154.840085   156.894291   152.677793   154.703176  1.819940e+06\n",
       "std     139.750804   141.425982   138.006825   139.646854  1.882126e+06\n",
       "min       5.975000     6.135000     5.165000     5.940000  0.000000e+00\n",
       "25%      45.000000    45.799999    43.952500    44.972499  7.873700e+05\n",
       "50%     102.099998   103.875000   100.775002   102.275002  1.284784e+06\n",
       "75%     272.662498   275.250000   268.750000   272.025002  2.219985e+06\n",
       "max     520.000000   525.000000   514.549988   519.900024  3.602862e+07"
      ]
     },
     "execution_count": 32,
     "metadata": {},
     "output_type": "execute_result"
    }
   ],
   "source": [
    "dataset.describe()"
   ]
  },
  {
   "cell_type": "code",
   "execution_count": 34,
   "id": "f362a1d7",
   "metadata": {},
   "outputs": [
    {
     "name": "stdout",
     "output_type": "stream",
     "text": [
      "4420\n"
     ]
    }
   ],
   "source": [
    "print(len(dataset))"
   ]
  },
  {
   "cell_type": "code",
   "execution_count": 52,
   "id": "5274e9fd",
   "metadata": {},
   "outputs": [
    {
     "name": "stdout",
     "output_type": "stream",
     "text": [
      "            Date        Open        High         Low       Close   Adj Close  \\\n",
      "0     2002-07-01    8.610000    8.675000    8.535000    8.585000    3.851048   \n",
      "1     2002-07-02    8.575000    8.615000    8.525000    8.585000    3.851048   \n",
      "2     2002-07-03    8.585000    8.640000    8.540000    8.585000    3.851048   \n",
      "3     2002-07-04    8.660000    8.665000    8.540000    8.560000    3.839834   \n",
      "4     2002-07-05    8.635000    9.000000    8.565000    8.815000    3.954221   \n",
      "...          ...         ...         ...         ...         ...         ...   \n",
      "4415  2020-06-01  470.000000  473.950012  462.000000  469.250000  469.250000   \n",
      "4416  2020-06-02  469.250000  476.899994  459.049988  460.850006  460.850006   \n",
      "4417  2020-06-03  464.100006  470.600006  457.100006  463.350006  463.350006   \n",
      "4418  2020-06-04  465.000000  469.450012  458.000000  462.549988  462.549988   \n",
      "4419  2020-06-05  464.000000  466.500000  457.500000  462.850006  462.850006   \n",
      "\n",
      "       Volume  \n",
      "0     2331240  \n",
      "1      925272  \n",
      "2     1304064  \n",
      "3     1589202  \n",
      "4     3139716  \n",
      "...       ...  \n",
      "4415  6224484  \n",
      "4416  3195295  \n",
      "4417  3870392  \n",
      "4418  2631670  \n",
      "4419  2549236  \n",
      "\n",
      "[4420 rows x 7 columns]\n"
     ]
    },
    {
     "data": {
      "text/plain": [
       "<AxesSubplot:>"
      ]
     },
     "execution_count": 52,
     "metadata": {},
     "output_type": "execute_result"
    },
    {
     "data": {
      "image/png": "[encoded data removed]",
      "text/plain": [
       "<Figure size 1600x600 with 1 Axes>"
      ]
     },
     "metadata": {},
     "output_type": "display_data"
    }
   ],
   "source": [
    "print(dataset)\n",
    "#mpf.plot(dataset,type='candle',style='charles')\n",
    "dataset['Open'].plot(figsize=(16,6))"
   ]
  },
  {
   "cell_type": "code",
   "execution_count": 55,
   "id": "140600ab",
   "metadata": {},
   "outputs": [],
   "source": [
    "x = dataset[['Open','High','Low','Volume']]\n",
    "y= dataset['Close']\n",
    "#print(x)"
   ]
  },
  {
   "cell_type": "code",
   "execution_count": 74,
   "id": "17c5ca0e",
   "metadata": {},
   "outputs": [
    {
     "name": "stdout",
     "output_type": "stream",
     "text": [
      "3241    294.700012\n",
      "2118     98.250000\n",
      "1945     90.650002\n",
      "666      19.285000\n",
      "1775     61.450001\n",
      "           ...    \n",
      "3905    357.100006\n",
      "3231    293.299988\n",
      "443      12.285000\n",
      "2600    128.949997\n",
      "3538    293.149994\n",
      "Name: Close, Length: 1105, dtype: float64\n"
     ]
    }
   ],
   "source": [
    "from sklearn.model_selection import train_test_split\n",
    "x_train , x_test , y_train, y_test =train_test_split(x , y, random_state=0)\n",
    "#x_train.shape\n",
    "#x_test.shape\n",
    "print(y_test)"
   ]
  },
  {
   "cell_type": "code",
   "execution_count": 64,
   "id": "d8631712",
   "metadata": {},
   "outputs": [
    {
     "data": {
      "text/plain": [
       "LinearRegression()"
      ]
     },
     "execution_count": 64,
     "metadata": {},
     "output_type": "execute_result"
    }
   ],
   "source": [
    "from sklearn.linear_model import LinearRegression\n",
    "from sklearn.metrics import confusion_matrix, accuracy_score\n",
    "regressor=LinearRegression()\n",
    "regressor.fit(x_train,y_train)"
   ]
  },
  {
   "cell_type": "code",
   "execution_count": 67,
   "id": "1e72713c",
   "metadata": {},
   "outputs": [
    {
     "name": "stdout",
     "output_type": "stream",
     "text": [
      "[-5.22226586e-01  7.74687308e-01  7.46661076e-01 -1.11166206e-08]\n"
     ]
    }
   ],
   "source": [
    "print(regressor.coef_)"
   ]
  },
  {
   "cell_type": "code",
   "execution_count": 69,
   "id": "777e06a1",
   "metadata": {},
   "outputs": [
    {
     "name": "stdout",
     "output_type": "stream",
     "text": [
      "0.02110592930065991\n"
     ]
    }
   ],
   "source": [
    "print(regressor.intercept_)"
   ]
  },
  {
   "cell_type": "code",
   "execution_count": 71,
   "id": "d4afc5ea",
   "metadata": {},
   "outputs": [
    {
     "name": "stdout",
     "output_type": "stream",
     "text": [
      "            Open        High         Low   Volume\n",
      "3241  293.799988  297.899994  291.000000   380032\n",
      "2118   99.199997  100.250000   97.900002  1999212\n",
      "1945   93.500000   94.425003   90.275002   213622\n",
      "666    19.600000   19.600000   18.865000  1714182\n",
      "1775   63.000000   63.000000   60.775002   912884\n",
      "...          ...         ...         ...      ...\n",
      "3905  361.000000  364.000000  355.000000  1573999\n",
      "3231  292.850006  295.450012  289.600006   988467\n",
      "443    12.415000   12.600000   12.165000   880836\n",
      "2600  133.000000  133.000000  127.050003   846500\n",
      "3538  295.000000  298.500000  290.700012  2018310\n",
      "\n",
      "[1105 rows x 4 columns]\n"
     ]
    }
   ],
   "source": [
    "predicted=regressor.predict(x_test)\n",
    "print(x_test)"
   ]
  },
  {
   "cell_type": "code",
   "execution_count": 77,
   "id": "cef4d967",
   "metadata": {},
   "outputs": [
    {
     "name": "stdout",
     "output_type": "stream",
     "text": [
      "      actual_price  predicted_price\n",
      "3241    294.700012       294.644434\n",
      "2118     98.250000        98.954529\n",
      "1945     90.650002        91.745227\n",
      "666      19.285000        19.036041\n",
      "1775     61.450001        61.294311\n",
      "...            ...              ...\n",
      "3905    357.100006       358.530673\n",
      "3231    293.299988       292.190485\n",
      "443      12.285000        12.372063\n",
      "2600    128.949997       128.452264\n",
      "3538    293.149994       294.240372\n",
      "\n",
      "[1105 rows x 2 columns]\n"
     ]
    }
   ],
   "source": [
    "dframe=pd.DataFrame(y_test,predicted)\n",
    "dfr=pd.DataFrame({'actual_price':y_test,'predicted_price':predicted})\n",
    "print(dfr)"
   ]
  },
  {
   "cell_type": "code",
   "execution_count": 79,
   "id": "8d5a9cfc",
   "metadata": {},
   "outputs": [
    {
     "data": {
      "text/plain": [
       "0.9998925954851277"
      ]
     },
     "execution_count": 79,
     "metadata": {},
     "output_type": "execute_result"
    }
   ],
   "source": [
    "from sklearn.metrics import confusion_matrix, accuracy_score\n",
    "regressor.score(x_test,y_test)"
   ]
  },
  {
   "cell_type": "code",
   "execution_count": 81,
   "id": "db30cf46",
   "metadata": {},
   "outputs": [
    {
     "name": "stdout",
     "output_type": "stream",
     "text": [
      "mean absolute error 0.800046737245915\n"
     ]
    }
   ],
   "source": [
    "print('mean absolute error',metrics.mean_absolute_error(y_test,predicted))"
   ]
  },
  {
   "cell_type": "code",
   "execution_count": 83,
   "id": "1e5bf25d",
   "metadata": {},
   "outputs": [
    {
     "name": "stdout",
     "output_type": "stream",
     "text": [
      "mean squared error 2.094322866736483\n"
     ]
    }
   ],
   "source": [
    "print('mean squared error',metrics.mean_squared_error(y_test,predicted))"
   ]
  },
  {
   "cell_type": "code",
   "execution_count": 87,
   "id": "2c8cb52c",
   "metadata": {},
   "outputs": [
    {
     "name": "stdout",
     "output_type": "stream",
     "text": [
      "root mean squared error 0.89445331753307\n"
     ]
    }
   ],
   "source": [
    "print('root mean squared error',math.sqrt(metrics.mean_absolute_error(y_test,predicted)))"
   ]
  },
  {
   "cell_type": "code",
   "execution_count": 88,
   "id": "1509e261",
   "metadata": {},
   "outputs": [
    {
     "data": {
      "text/plain": [
       "<AxesSubplot:>"
      ]
     },
     "execution_count": 88,
     "metadata": {},
     "output_type": "execute_result"
    },
    {
     "data": {
      "image/png": "[encoded data removed]",
      "text/plain": [
       "<Figure size 640x480 with 1 Axes>"
      ]
     },
     "metadata": {},
     "output_type": "display_data"
    }
   ],
   "source": [
    "graph=dfr.head(20)\n",
    "graph.plot(kind='bar')"
   ]
  }
 ],
 "metadata": {
  "kernelspec": {
   "display_name": "Python 3 (ipykernel)",
   "language": "python",
   "name": "python3"
  },
  "language_info": {
   "codemirror_mode": {
    "name": "ipython",
    "version": 3
   },
   "file_extension": ".py",
   "mimetype": "text/x-python",
   "name": "python",
   "nbconvert_exporter": "python",
   "pygments_lexer": "ipython3",
   "version": "3.9.13"
  }
 },
 "nbformat": 4,
 "nbformat_minor": 5
}
